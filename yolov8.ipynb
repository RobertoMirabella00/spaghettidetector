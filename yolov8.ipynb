{
 "cells": [
  {
   "cell_type": "code",
   "execution_count": null,
   "metadata": {},
   "outputs": [],
   "source": [
    "!yolo task=detect mode=train model=yolov8s.pt data=data.yaml epochs=25 imgsz=224 plots=True"
   ]
  },
  {
   "cell_type": "code",
   "execution_count": null,
   "metadata": {},
   "outputs": [],
   "source": [
    "from ultralytics import YOLO\n",
    "\n",
    "\n",
    "model = YOLO(\"datasets\\\\runs\\\\detect\\\\train2\\\\weights\\\\best.pt\", task=\"detect\")\n",
    "model.export(format=\"torchscript\",optimize=True)"
   ]
  },
  {
   "cell_type": "code",
   "execution_count": null,
   "metadata": {},
   "outputs": [],
   "source": [
    "import torch\n",
    "from torch import nn\n",
    "from torchvision import transforms\n",
    "from PIL import Image\n",
    "from ultralytics.utils.ops import non_max_suppression\n",
    "\n",
    "# Open and resize the image\n",
    "image = Image.open(\"datasets\\\\test\\\\images\\\\148269246_3650105938422073_232258935701890484_n_cropped_jpg.rf.780bbee8eb94051585beb171bc3d56b1.jpg\").resize((224, 224))\n",
    "\n",
    "# Define a transform to apply to the image\n",
    "preprocess = transforms.Compose([\n",
    "    transforms.ToTensor(),\n",
    "])\n",
    "\n",
    "# Apply the transform to the image\n",
    "input_tensor = preprocess(image).unsqueeze(0)\n",
    "\n",
    "# Load the model\n",
    "model = torch.jit.load('datasets\\\\runs\\\\detect\\\\train\\\\weights\\\\best.torchscript')\n",
    "\n",
    "# Make predictions\n",
    "with torch.inference_mode():\n",
    "    out = model(input_tensor)\n",
    "\n",
    "print(out.shape)"
   ]
  },
  {
   "cell_type": "code",
   "execution_count": null,
   "metadata": {},
   "outputs": [],
   "source": []
  }
 ],
 "metadata": {
  "kernelspec": {
   "display_name": "spaghetti",
   "language": "python",
   "name": "python3"
  },
  "language_info": {
   "codemirror_mode": {
    "name": "ipython",
    "version": 3
   },
   "file_extension": ".py",
   "mimetype": "text/x-python",
   "name": "python",
   "nbconvert_exporter": "python",
   "pygments_lexer": "ipython3",
   "version": "3.9.13"
  }
 },
 "nbformat": 4,
 "nbformat_minor": 2
}
